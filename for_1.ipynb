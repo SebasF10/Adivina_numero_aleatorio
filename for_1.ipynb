{
  "nbformat": 4,
  "nbformat_minor": 0,
  "metadata": {
    "colab": {
      "provenance": [],
      "authorship_tag": "ABX9TyPC0lAWAlKfvYYnQXq9HAv/",
      "include_colab_link": true
    },
    "kernelspec": {
      "name": "python3",
      "display_name": "Python 3"
    },
    "language_info": {
      "name": "python"
    }
  },
  "cells": [
    {
      "cell_type": "markdown",
      "metadata": {
        "id": "view-in-github",
        "colab_type": "text"
      },
      "source": [
        "<a href=\"https://colab.research.google.com/github/SebasF10/Adivina_numero_aleatorio/blob/main/for_1.ipynb\" target=\"_parent\"><img src=\"https://colab.research.google.com/assets/colab-badge.svg\" alt=\"Open In Colab\"/></a>"
      ]
    },
    {
      "cell_type": "code",
      "source": [
        "# programa 1 intrucciones for\n",
        "# mostrar la suam de los primero 10 numeros naturales\n",
        "\n",
        "#input\n",
        "\n",
        "#prosesing\n",
        "\n",
        "suma = 0\n",
        "serie = list(range(1,11))\n",
        "for i in range(1,11):\n",
        "  suma += i\n",
        "\n",
        "#ouput\n",
        "print(\"la suma es :\",suma)\n",
        "print(serie)"
      ],
      "metadata": {
        "colab": {
          "base_uri": "https://localhost:8080/"
        },
        "id": "9wh3ct1hS_27",
        "outputId": "1a0073fd-d692-4ccf-bac5-85200c186047"
      },
      "execution_count": 7,
      "outputs": [
        {
          "output_type": "stream",
          "name": "stdout",
          "text": [
            "la suma es : 55\n",
            "[1, 2, 3, 4, 5, 6, 7, 8, 9, 10]\n"
          ]
        }
      ]
    },
    {
      "cell_type": "markdown",
      "source": [
        "# funcion range()\n",
        "\n",
        "es el rango de los valores accinados en su parentesis por ejemplo range(1,3) ejecuta los valores de 1,3 en este caso\n",
        "\n",
        "#ejemplo\n",
        "\n",
        "n = input(\"dime una frase que quieras repetir:\")\n",
        "\n",
        "r = int(input(\"cuantas veses quieres que se repita la frase:\"))\n",
        "\n",
        "for i in range(r):\n",
        "\n",
        "        print(n)\n",
        "\n",
        "es un ejemplo muy facil donde se usa el rango dado por el ususario y la palabra a repetir"
      ],
      "metadata": {
        "id": "63deWWSaWRKc"
      }
    }
  ]
}